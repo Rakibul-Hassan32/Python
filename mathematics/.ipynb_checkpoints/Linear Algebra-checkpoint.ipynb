{
 "cells": [
  {
   "cell_type": "code",
   "execution_count": 1,
   "id": "64815810-12e4-48be-ae4d-2239b76496d9",
   "metadata": {},
   "outputs": [],
   "source": [
    "import numpy as np"
   ]
  },
  {
   "cell_type": "code",
   "execution_count": 13,
   "id": "58253016-93cc-44c2-a68b-8fd52699c37f",
   "metadata": {},
   "outputs": [
    {
     "data": {
      "text/plain": [
       "array([30, 24])"
      ]
     },
     "execution_count": 13,
     "metadata": {},
     "output_type": "execute_result"
    }
   ],
   "source": [
    "# vectors and matrices\n",
    "a = np.array([10,15])\n",
    "b = np.array([20, 9])\n",
    "# a+b\n",
    "(a + b).T"
   ]
  },
  {
   "cell_type": "code",
   "execution_count": 6,
   "id": "6c806987-cc6e-46b3-b103-5b75320f5d22",
   "metadata": {},
   "outputs": [
    {
     "data": {
      "text/plain": [
       "array([-10,   6])"
      ]
     },
     "execution_count": 6,
     "metadata": {},
     "output_type": "execute_result"
    }
   ],
   "source": [
    "a-b"
   ]
  },
  {
   "cell_type": "code",
   "execution_count": 9,
   "id": "8e4b0c8f-c454-42cd-be6c-ffa1595afffb",
   "metadata": {},
   "outputs": [
    {
     "data": {
      "text/plain": [
       "array([120,  60])"
      ]
     },
     "execution_count": 9,
     "metadata": {},
     "output_type": "execute_result"
    }
   ],
   "source": [
    "a = 4\n",
    "u = np.array([30, 15])\n",
    "(a*u).T"
   ]
  },
  {
   "cell_type": "code",
   "execution_count": 10,
   "id": "b8ddc6b2-dd2c-45d8-9069-ed7bee3fb378",
   "metadata": {},
   "outputs": [
    {
     "data": {
      "text/plain": [
       "370"
      ]
     },
     "execution_count": 10,
     "metadata": {},
     "output_type": "execute_result"
    }
   ],
   "source": [
    "a = np.array([10,20])\n",
    "b = np.array([25, 6])\n",
    "np.dot(a,b)"
   ]
  },
  {
   "cell_type": "code",
   "execution_count": 11,
   "id": "84496783-14fa-40e7-adc8-4f0c092d507a",
   "metadata": {},
   "outputs": [
    {
     "name": "stdout",
     "output_type": "stream",
     "text": [
      "[[14 18]\n",
      " [50 69]\n",
      " [90 41]]\n"
     ]
    }
   ],
   "source": [
    "a = np.array([[12,10],[4,6],[40,31]])\n",
    "b = np.array([[2, 8],[46,63],[50,10]])\n",
    "print(a+b)"
   ]
  },
  {
   "cell_type": "code",
   "execution_count": 12,
   "id": "908bc237-ed8c-43b7-8cd2-f7ed7f84f619",
   "metadata": {},
   "outputs": [
    {
     "name": "stdout",
     "output_type": "stream",
     "text": [
      "[[ 10   2]\n",
      " [-42 -57]\n",
      " [-10  21]]\n"
     ]
    }
   ],
   "source": [
    "a = np.array([[12,10],[4,6],[40,31]])\n",
    "b = np.array([[2, 8],[46,63],[50,10]])\n",
    "print(a-b)"
   ]
  },
  {
   "cell_type": "code",
   "execution_count": 14,
   "id": "c6680e5d-fb04-44d4-ba9f-3e682d621610",
   "metadata": {},
   "outputs": [
    {
     "name": "stdout",
     "output_type": "stream",
     "text": [
      "[[  8  32]\n",
      " [184 252]\n",
      " [200  40]]\n"
     ]
    }
   ],
   "source": [
    "a = 4\n",
    "b = np.array([[2, 8],[46,63],[50,10]])\n",
    "print(a*b)"
   ]
  },
  {
   "cell_type": "code",
   "execution_count": 15,
   "id": "ae7bc678-a422-4a39-8505-aede545ef9b3",
   "metadata": {},
   "outputs": [
    {
     "data": {
      "text/plain": [
       "array([170, 390])"
      ]
     },
     "execution_count": 15,
     "metadata": {},
     "output_type": "execute_result"
    }
   ],
   "source": [
    "# matrix * vector\n",
    "a = [[5,10],[15,20]]\n",
    "b = [10,12]\n",
    "np.dot(a,b)"
   ]
  },
  {
   "cell_type": "code",
   "execution_count": 16,
   "id": "8ec89397-bb2b-437b-84a8-5d7f2d9dd270",
   "metadata": {},
   "outputs": [
    {
     "data": {
      "text/plain": [
       "array([[ 130,  180],\n",
       "       [1175, 1720],\n",
       "       [ 400,  700]])"
      ]
     },
     "execution_count": 16,
     "metadata": {},
     "output_type": "execute_result"
    }
   ],
   "source": [
    "# matrix * matrix\n",
    "a = [[2, 8],[46,63],[50,10]]\n",
    "b = [[5,10],[15,20]]\n",
    "np.dot(a,b)"
   ]
  },
  {
   "cell_type": "code",
   "execution_count": 17,
   "id": "19d5ca08-d56c-4d3d-96d5-a3972eaecd6e",
   "metadata": {},
   "outputs": [
    {
     "name": "stdout",
     "output_type": "stream",
     "text": [
      "[[1. 0.]\n",
      " [0. 1.]] \n",
      "\n",
      "[[1. 0. 0.]\n",
      " [0. 1. 0.]\n",
      " [0. 0. 1.]] \n",
      "\n"
     ]
    }
   ],
   "source": [
    "# create identity matrix\n",
    "I1 = np.eye(2)\n",
    "I2 = np.eye(3)\n",
    "print(I1,\"\\n\")\n",
    "print(I2,\"\\n\")"
   ]
  },
  {
   "cell_type": "code",
   "execution_count": 21,
   "id": "e7ec2885-5550-4328-819c-c3ae3ae4836d",
   "metadata": {},
   "outputs": [
    {
     "name": "stdout",
     "output_type": "stream",
     "text": [
      "[[2 1 0]\n",
      " [0 1 0]\n",
      " [1 2 1]] \n",
      "\n",
      "[[ 0.5 -0.5  0. ]\n",
      " [ 0.   1.   0. ]\n",
      " [-0.5 -1.5  1. ]]\n"
     ]
    }
   ],
   "source": [
    "# dot \"a\", inverse of \"a\" matrix\n",
    "a = np.array([\n",
    "    [2,1,0],\n",
    "    [0,1,0],\n",
    "    [1,2,1]\n",
    "])\n",
    "print(a,\"\\n\")\n",
    "print(np.linalg.inv(a))"
   ]
  }
 ],
 "metadata": {
  "kernelspec": {
   "display_name": "Python 3 (ipykernel)",
   "language": "python",
   "name": "python3"
  },
  "language_info": {
   "codemirror_mode": {
    "name": "ipython",
    "version": 3
   },
   "file_extension": ".py",
   "mimetype": "text/x-python",
   "name": "python",
   "nbconvert_exporter": "python",
   "pygments_lexer": "ipython3",
   "version": "3.12.1"
  }
 },
 "nbformat": 4,
 "nbformat_minor": 5
}
