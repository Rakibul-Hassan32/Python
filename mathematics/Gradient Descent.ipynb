{
 "cells": [
  {
   "cell_type": "code",
   "execution_count": 1,
   "id": "7c3639e8-1711-426f-9ad5-b895f3b58607",
   "metadata": {},
   "outputs": [
    {
     "name": "stdout",
     "output_type": "stream",
     "text": [
      "Iteration 1 \n",
      "x value is 3.0\n",
      "Iteration 2 \n",
      "x value is 1.4\n",
      "Iteration 3 \n",
      "x value is 0.11999999999999966\n",
      "Iteration 4 \n",
      "x value is -0.9040000000000001\n",
      "Iteration 5 \n",
      "x value is -1.7232000000000003\n",
      "Iteration 6 \n",
      "x value is -2.3785600000000002\n",
      "Iteration 7 \n",
      "x value is -2.902848\n",
      "Iteration 8 \n",
      "x value is -3.3222784\n",
      "The local minimum occurs at -3.3222784\n"
     ]
    }
   ],
   "source": [
    "cur_x = 5  # start at 3\n",
    "\n",
    "rate = 0.1  # learning rate\n",
    "\n",
    "precision = 0.5  # this tells us when to stop the algorithm\n",
    "previous_step_size = 1\n",
    "max_iters = 1000000  # maximum number of iterations\n",
    "iters = 0\n",
    "\n",
    "df = lambda x: 2*(x+5)  # gradient of our function\n",
    "\n",
    "while previous_step_size > precision and iters < max_iters:\n",
    "    prev_x = cur_x\n",
    "    cur_x = cur_x - rate * df(prev_x)\n",
    "    previous_step_size = abs(cur_x - prev_x)\n",
    "    iters = iters + 1\n",
    "    print(\"Iteration\", iters, \"\\nx value is\", cur_x)\n",
    "    \n",
    "print(\"The local minimum occurs at\", cur_x)"
   ]
  },
  {
   "cell_type": "code",
   "execution_count": 3,
   "id": "67c2b608-e5df-43bb-a171-75e4a3b6e253",
   "metadata": {},
   "outputs": [],
   "source": [
    "# docs.scipy.org\n",
    "# scipy.optimize.minimize(...)"
   ]
  }
 ],
 "metadata": {
  "kernelspec": {
   "display_name": "Python 3 (ipykernel)",
   "language": "python",
   "name": "python3"
  },
  "language_info": {
   "codemirror_mode": {
    "name": "ipython",
    "version": 3
   },
   "file_extension": ".py",
   "mimetype": "text/x-python",
   "name": "python",
   "nbconvert_exporter": "python",
   "pygments_lexer": "ipython3",
   "version": "3.12.1"
  }
 },
 "nbformat": 4,
 "nbformat_minor": 5
}
