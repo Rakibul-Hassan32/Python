{
 "cells": [
  {
   "cell_type": "code",
   "execution_count": 11,
   "id": "9f46b721-0451-4f42-9f81-147dfcfc3a0a",
   "metadata": {},
   "outputs": [
    {
     "name": "stdout",
     "output_type": "stream",
     "text": [
      "  Emp Id   Names  Age\n",
      "0    E01     Ram   34\n",
      "1    E02   Shyam   56\n",
      "2    E03   Rahul   23\n",
      "3    E04  Vishal   44\n",
      "4    E05    Rabi   32\n",
      "5    E06    John   36\n",
      "\n",
      "  Emp Id  Salary\n",
      "0    E01   45000\n",
      "1    E07   56000\n",
      "2    E03   34000\n",
      "3    E04   30000\n",
      "4    E08   50000\n",
      "5    E06   62000\n"
     ]
    }
   ],
   "source": [
    "import pandas as pd\n",
    "data1 = {\"Emp Id\":[\"E01\",\"E02\",\"E03\",\"E04\",\"E05\",\"E06\"],\n",
    "        \"Names\":[\"Ram\",\"Shyam\",\"Rahul\",\"Vishal\",\"Rabi\",\"John\"],\n",
    "        \"Age\":[34,56,23,44,32,36]}\n",
    "data2 = {\"Emp Id\":[\"E01\",\"E07\",\"E03\",\"E04\",\"E08\",\"E06\"],\n",
    "        \"Salary\":[45000,56000,34000,30000,50000,62000]}\n",
    "df1 = pd.DataFrame(data1)\n",
    "df2 = pd.DataFrame(data2)\n",
    "print(df1)\n",
    "print()\n",
    "print(df2)"
   ]
  },
  {
   "cell_type": "code",
   "execution_count": 12,
   "id": "63dc5c6e-e855-42d5-80c4-ec0c83d4a50c",
   "metadata": {},
   "outputs": [
    {
     "name": "stdout",
     "output_type": "stream",
     "text": [
      "  Emp Id   Names  Age  Salary\n",
      "0    E01     Ram   34   45000\n",
      "1    E03   Rahul   23   34000\n",
      "2    E04  Vishal   44   30000\n",
      "3    E06    John   36   62000\n"
     ]
    }
   ],
   "source": [
    "print(pd.merge(df1,df2,on = \"Emp Id\"))  # merge on the basis of Emp id"
   ]
  },
  {
   "cell_type": "code",
   "execution_count": 14,
   "id": "052010e8-3dca-4fee-9032-5e5cefd17ca0",
   "metadata": {},
   "outputs": [
    {
     "name": "stdout",
     "output_type": "stream",
     "text": [
      "  Emp Id   Names  Age   Salary\n",
      "0    E01     Ram   34  45000.0\n",
      "1    E02   Shyam   56      NaN\n",
      "2    E03   Rahul   23  34000.0\n",
      "3    E04  Vishal   44  30000.0\n",
      "4    E05    Rabi   32      NaN\n",
      "5    E06    John   36  62000.0\n"
     ]
    }
   ],
   "source": [
    "print(pd.merge(left = df1, right = df2,how = \"left\"))  # how = \"inner\" --> by default common\n",
    "# how = \"left\" --> will take everything of left side table"
   ]
  },
  {
   "cell_type": "code",
   "execution_count": 16,
   "id": "a4717cf7-e965-4427-9b63-9d68c62565bc",
   "metadata": {},
   "outputs": [
    {
     "name": "stdout",
     "output_type": "stream",
     "text": [
      "  Emp Id   Names   Age  Salary\n",
      "0    E01     Ram  34.0   45000\n",
      "1    E07     NaN   NaN   56000\n",
      "2    E03   Rahul  23.0   34000\n",
      "3    E04  Vishal  44.0   30000\n",
      "4    E08     NaN   NaN   50000\n",
      "5    E06    John  36.0   62000\n"
     ]
    }
   ],
   "source": [
    "print(pd.merge(left = df1, right = df2,how = \"right\"))  # how = \"right\" --> will take everything of right side table"
   ]
  },
  {
   "cell_type": "code",
   "execution_count": 19,
   "id": "60abc754-4cc6-4441-acb0-26a8c79ea140",
   "metadata": {},
   "outputs": [],
   "source": [
    "# concatenate\n",
    "data1 = {\"Emp Id\":[\"E01\",\"E02\",\"E03\",\"E04\",\"E05\",\"E06\"],\n",
    "        \"Names\":[\"Ram\",\"Shyam\",\"Rahul\",\"Vishal\",\"Rabi\",\"John\"],\n",
    "        \"Age\":[34,56,23,44,32,36]}\n",
    "data2 = {\"Emp Id\":[\"E07\",\"E08\",\"E09\",\"E010\",\"E011\",\"E012\"],\n",
    "        \"Names\":[\"Sam\",\"Kam\",\"Sahul\",\"Kushal\",\"Rabi\",\"Mohan\"],\n",
    "        \"Age\":[36,52,23,40,30,38]}\n",
    "df1 = pd.DataFrame(data1)\n",
    "df2 = pd.DataFrame(data2)"
   ]
  },
  {
   "cell_type": "code",
   "execution_count": 20,
   "id": "6064e2f1-b1b8-43cd-9059-706ef3d2e468",
   "metadata": {},
   "outputs": [
    {
     "name": "stdout",
     "output_type": "stream",
     "text": [
      "  Emp Id   Names  Age\n",
      "0    E01     Ram   34\n",
      "1    E02   Shyam   56\n",
      "2    E03   Rahul   23\n",
      "3    E04  Vishal   44\n",
      "4    E05    Rabi   32\n",
      "5    E06    John   36\n",
      "0    E07     Sam   36\n",
      "1    E08     Kam   52\n",
      "2    E09   Sahul   23\n",
      "3   E010  Kushal   40\n",
      "4   E011    Rabi   30\n",
      "5   E012   Mohan   38\n"
     ]
    }
   ],
   "source": [
    "print(pd.concat([df1,df2]))"
   ]
  }
 ],
 "metadata": {
  "kernelspec": {
   "display_name": "Python 3 (ipykernel)",
   "language": "python",
   "name": "python3"
  },
  "language_info": {
   "codemirror_mode": {
    "name": "ipython",
    "version": 3
   },
   "file_extension": ".py",
   "mimetype": "text/x-python",
   "name": "python",
   "nbconvert_exporter": "python",
   "pygments_lexer": "ipython3",
   "version": "3.12.1"
  }
 },
 "nbformat": 4,
 "nbformat_minor": 5
}
