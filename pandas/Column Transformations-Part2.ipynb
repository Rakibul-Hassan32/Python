{
 "cells": [
  {
   "cell_type": "code",
   "execution_count": 8,
   "id": "3e2c8109-5089-48e9-8ffd-cff52a66555b",
   "metadata": {},
   "outputs": [
    {
     "name": "stdout",
     "output_type": "stream",
     "text": [
      "  First name  Last name  Salary EEID  Bonus Amount\n",
      "0       ross  tribbiani   20000   E1        4000.0\n",
      "1     rachel       bing   40000   E2        8000.0\n",
      "2     monica      green   25000   E7        5000.0\n",
      "3       joey     geller   60000   E8       12000.0\n",
      "4   chandler     buffay   33000   E4        6600.0\n",
      "5     phoebe       bing   45000   E5        9000.0\n"
     ]
    }
   ],
   "source": [
    "import pandas as pd\n",
    "data = pd.read_excel(\"practice_1.xlsx\")\n",
    "# print(data)\n",
    "data[\"Bonus Amount\"] = (data[\"Salary\"]/100)*20\n",
    "print(data)"
   ]
  },
  {
   "cell_type": "code",
   "execution_count": 12,
   "id": "124a7615-e865-4f18-a777-089b7f702fd5",
   "metadata": {},
   "outputs": [
    {
     "name": "stdout",
     "output_type": "stream",
     "text": [
      "     Months Short_months\n",
      "0   January          Jan\n",
      "1  February          Feb\n",
      "2     March          Mar\n",
      "3     April          Apr\n"
     ]
    }
   ],
   "source": [
    "data = {\"Months\": [\"January\",\"February\",\"March\",\"April\"]}\n",
    "a = pd.DataFrame(data)\n",
    "# print(a)\n",
    "def extract(value):\n",
    "    return value[0:3]\n",
    "\n",
    "\n",
    "a[\"Short_months\"] = a[\"Months\"].map(extract)\n",
    "print(a)"
   ]
  }
 ],
 "metadata": {
  "kernelspec": {
   "display_name": "Python 3 (ipykernel)",
   "language": "python",
   "name": "python3"
  },
  "language_info": {
   "codemirror_mode": {
    "name": "ipython",
    "version": 3
   },
   "file_extension": ".py",
   "mimetype": "text/x-python",
   "name": "python",
   "nbconvert_exporter": "python",
   "pygments_lexer": "ipython3",
   "version": "3.12.1"
  }
 },
 "nbformat": 4,
 "nbformat_minor": 5
}
