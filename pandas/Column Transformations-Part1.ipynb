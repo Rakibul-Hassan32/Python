{
 "cells": [
  {
   "cell_type": "code",
   "execution_count": 13,
   "id": "4c5615c8-523b-4ba4-8567-ac0cd4807ae4",
   "metadata": {},
   "outputs": [
    {
     "name": "stdout",
     "output_type": "stream",
     "text": [
      "     EEID        Full Name                 Job Title  Department  \\\n",
      "0  E02387      Emily Davis                Sr. Manger          IT   \n",
      "1  E04105    Theodore Dinh       Technical Architect          IT   \n",
      "2  E02572     Luna Sanders                  Director     Finance   \n",
      "3  E02832  Penelope Jordan  Computer Systems Manager          IT   \n",
      "4  E01639        Austin Vo               Sr. Analyst     Finance   \n",
      "5  E00644     Joshua Gupta    Account Representative       Sales   \n",
      "6  E01550      Ruby Barnes                   Manager          IT   \n",
      "7  E04332      Luke Martin                   Analyst     Finance   \n",
      "8  E04533    Easton Bailey                   Manager  Accounting   \n",
      "9  E03838  Madeline Walker               Sr. Analyst     Finance   \n",
      "\n",
      "            Business Unit  Gender  Ethnicity  Age  Hire Date  Annual Salary  \\\n",
      "0  Research & Development  Female      Black   55 2016-04-08         141604   \n",
      "1           Manufacturing    Male      Asian   59 1997-11-29          99975   \n",
      "2     Speciality Products  Female  Caucasian   50 2006-10-26         163099   \n",
      "3           Manufacturing  Female  Caucasian   26 2019-09-27          84913   \n",
      "4           Manufacturing    Male      Asian   55 1995-11-20          95409   \n",
      "5               Corporate    Male      Asian   57 2017-01-24          50994   \n",
      "6               Corporate  Female  Caucasian   27 2020-07-01         119746   \n",
      "7           Manufacturing    Male      Black   25 2020-05-16          41336   \n",
      "8           Manufacturing    Male  Caucasian   29 2019-01-25         113527   \n",
      "9     Speciality Products  Female  Caucasian   34 2018-06-13          77203   \n",
      "\n",
      "   Bonus %        Country       City  Exit Date GetsBonus  \n",
      "0     0.15  United States    Seattle 2021-10-16     bonus  \n",
      "1     0.00          China  Chongqing        NaT  no bonus  \n",
      "2     0.20  United States    Chicago        NaT     bonus  \n",
      "3     0.07  United States    Chicago        NaT     bonus  \n",
      "4     0.00  United States    Phoenix        NaT  no bonus  \n",
      "5     0.00          China  Chongqing        NaT  no bonus  \n",
      "6     0.10  United States    Phoenix        NaT     bonus  \n",
      "7     0.00  United States      Miami 2021-05-20  no bonus  \n",
      "8     0.06  United States     Austin        NaT     bonus  \n",
      "9     0.00  United States    Chicago        NaT  no bonus  \n"
     ]
    }
   ],
   "source": [
    "import pandas as pd\n",
    "data = pd.read_excel(\"ESD.xlsx\")\n",
    "# print(data)\n",
    "# creating new column on basis of bonus\n",
    "data.loc[(data[\"Bonus %\"] == 0), \"GetsBonus\"] = \"no bonus\"  # fill no bonus if, bounus == 0 and loc = lock\n",
    "data.loc[(data[\"Bonus %\"] > 0), \"GetsBonus\"] = \"bonus\"  # fill bonus if, bounus > 0\n",
    "print(data.head(10))"
   ]
  },
  {
   "cell_type": "code",
   "execution_count": 12,
   "id": "f2f02a55-eede-4f5d-b0fe-e651b96951b7",
   "metadata": {},
   "outputs": [
    {
     "name": "stdout",
     "output_type": "stream",
     "text": [
      "  First name  Last name  Salary EEID        Full Name\n",
      "0       ross  tribbiani   20000   E1   Ross Tribbiani\n",
      "1     rachel       bing   40000   E2      Rachel Bing\n",
      "2     monica      green   25000   E7     Monica Green\n",
      "3       joey     geller   60000   E8      Joey Geller\n",
      "4   chandler     buffay   33000   E4  Chandler Buffay\n",
      "5     phoebe       bing   45000   E5      Phoebe Bing\n"
     ]
    }
   ],
   "source": [
    "data = pd.read_excel(\"practice_1.xlsx\")\n",
    "# print(data)\n",
    "# data[\"Full name\"] = data[\"First name\"].str.upper() +\" \"+ data[\"Last name\"].str.upper()\n",
    "data[\"Full Name\"] = data[\"First name\"].str.capitalize() +\" \"+ data[\"Last name\"].str.capitalize()\n",
    "print(data)"
   ]
  }
 ],
 "metadata": {
  "kernelspec": {
   "display_name": "Python 3 (ipykernel)",
   "language": "python",
   "name": "python3"
  },
  "language_info": {
   "codemirror_mode": {
    "name": "ipython",
    "version": 3
   },
   "file_extension": ".py",
   "mimetype": "text/x-python",
   "name": "python",
   "nbconvert_exporter": "python",
   "pygments_lexer": "ipython3",
   "version": "3.12.1"
  }
 },
 "nbformat": 4,
 "nbformat_minor": 5
}
