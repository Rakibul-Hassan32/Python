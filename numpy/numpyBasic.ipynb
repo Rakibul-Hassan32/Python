{
 "cells": [
  {
   "cell_type": "code",
   "execution_count": 9,
   "id": "cfe080a5-5796-4134-9aa9-138cd4bb8f7c",
   "metadata": {},
   "outputs": [
    {
     "name": "stdout",
     "output_type": "stream",
     "text": [
      "[20 30 40]\n",
      "[60 70 80]\n",
      "[1200 2100 3200]\n",
      "[240 360 480]\n"
     ]
    }
   ],
   "source": [
    "import numpy as np\n",
    "a = np.array([20,30,40])\n",
    "b = np.array([60, 70, 80])\n",
    "c = 12\n",
    "print(a)\n",
    "print(b)\n",
    "# mathematical operations working\n",
    "print(a*b)\n",
    "print(a*c)"
   ]
  },
  {
   "cell_type": "code",
   "execution_count": 11,
   "id": "ee2766b3-139e-4c5b-b4a2-95376f426ae1",
   "metadata": {},
   "outputs": [
    {
     "name": "stdout",
     "output_type": "stream",
     "text": [
      "['40' '50' '60']\n"
     ]
    }
   ],
   "source": [
    "a = np.array([40,50,\"60\"])\n",
    "print(a)  # fixed one data type"
   ]
  },
  {
   "cell_type": "code",
   "execution_count": 16,
   "id": "eb092470-84a9-495a-87a7-7ddf74feb6cb",
   "metadata": {},
   "outputs": [
    {
     "name": "stdout",
     "output_type": "stream",
     "text": [
      "[[40 50]\n",
      " [60 70]]\n"
     ]
    }
   ],
   "source": [
    "a = np.array([[40,50],[60,70]])  # size must be equal in array\n",
    "print(a)"
   ]
  },
  {
   "cell_type": "code",
   "execution_count": 12,
   "id": "91278cd6-fabe-4a8a-b1d3-f19af4b11d0d",
   "metadata": {},
   "outputs": [
    {
     "name": "stdout",
     "output_type": "stream",
     "text": [
      "[[20, 30], [40, 50, 60]]\n"
     ]
    }
   ],
   "source": [
    "l1 = [[20,30],[40,50,60]]\n",
    "print(l1)"
   ]
  }
 ],
 "metadata": {
  "kernelspec": {
   "display_name": "Python 3 (ipykernel)",
   "language": "python",
   "name": "python3"
  },
  "language_info": {
   "codemirror_mode": {
    "name": "ipython",
    "version": 3
   },
   "file_extension": ".py",
   "mimetype": "text/x-python",
   "name": "python",
   "nbconvert_exporter": "python",
   "pygments_lexer": "ipython3",
   "version": "3.12.1"
  }
 },
 "nbformat": 4,
 "nbformat_minor": 5
}
