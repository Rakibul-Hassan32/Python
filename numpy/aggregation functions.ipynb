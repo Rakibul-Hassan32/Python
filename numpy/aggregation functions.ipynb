{
 "cells": [
  {
   "cell_type": "code",
   "execution_count": 6,
   "id": "a1a718c7-3614-48ee-b386-4ce5848a8f6a",
   "metadata": {},
   "outputs": [
    {
     "name": "stdout",
     "output_type": "stream",
     "text": [
      "190\n",
      "20\n",
      "70\n",
      "4\n",
      "47.5\n",
      "[ 20  60 120 190]\n",
      "[     20     800   48000 3360000]\n"
     ]
    }
   ],
   "source": [
    "import numpy as np\n",
    "a = np.array([20,40,60,70])\n",
    "print(np.sum(a))\n",
    "print(np.min(a))\n",
    "print(np.max(a))\n",
    "print(np.size(a))\n",
    "print(np.mean(a))\n",
    "print(np.cumsum(a))  # cumilative sum\n",
    "print(np.cumprod(a))  # cumilative product"
   ]
  },
  {
   "cell_type": "code",
   "execution_count": 6,
   "id": "451b4812-4834-4ac7-bb75-99e380940331",
   "metadata": {},
   "outputs": [
    {
     "name": "stdout",
     "output_type": "stream",
     "text": [
      "[100 150 199 200 250 130] \n",
      " [10 50 30 40 30 10]\n",
      "\n",
      "31270\n"
     ]
    }
   ],
   "source": [
    "import numpy as np\n",
    "a = [100, 150, 199, 200, 250, 130]\n",
    "b = [10, 50, 30, 40, 30, 10]\n",
    "price = np.array(a)\n",
    "quantity = np.array(b)\n",
    "print(price,\"\\n\", quantity)\n",
    "print()\n",
    "c = np.cumprod([price,quantity], axis = 0)\n",
    "print(c[1].sum())"
   ]
  }
 ],
 "metadata": {
  "kernelspec": {
   "display_name": "Python 3 (ipykernel)",
   "language": "python",
   "name": "python3"
  },
  "language_info": {
   "codemirror_mode": {
    "name": "ipython",
    "version": 3
   },
   "file_extension": ".py",
   "mimetype": "text/x-python",
   "name": "python",
   "nbconvert_exporter": "python",
   "pygments_lexer": "ipython3",
   "version": "3.12.1"
  }
 },
 "nbformat": 4,
 "nbformat_minor": 5
}
