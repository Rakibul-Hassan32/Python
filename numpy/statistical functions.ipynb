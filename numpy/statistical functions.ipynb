{
 "cells": [
  {
   "cell_type": "code",
   "execution_count": 8,
   "id": "c4c9d7eb-8ebd-4d7c-a778-da40036ac30f",
   "metadata": {},
   "outputs": [
    {
     "name": "stdout",
     "output_type": "stream",
     "text": [
      "202.25\n",
      "194.0\n",
      "200\n",
      "55.68157235567257\n",
      "3100.4375\n",
      "55.68157235567257\n"
     ]
    }
   ],
   "source": [
    "import numpy as np\n",
    "import statistics as stats\n",
    "baked_food = [200,300,150,130,200,280,170,188]\n",
    "a = np.array(baked_food)\n",
    "print(np.mean(baked_food))  # sum of all values / num of values\n",
    "print(np.median(baked_food))  # central value after sorting or moddhok\n",
    "print(stats.mode(baked_food))  # prochurok or the value that comes most\n",
    "print(np.std(baked_food))  # std = standard daviation\n",
    "print(np.var(baked_food))  # var = varience\n",
    "bc = np.var(baked_food)\n",
    "print(np.sqrt(bc))"
   ]
  },
  {
   "cell_type": "code",
   "execution_count": 11,
   "id": "2c446eb1-7217-489a-945a-8c13a5a06774",
   "metadata": {},
   "outputs": [
    {
     "name": "stdout",
     "output_type": "stream",
     "text": [
      "[[1.         0.99015454]\n",
      " [0.99015454 1.        ]]\n"
     ]
    }
   ],
   "source": [
    "# -1 represents inversely proportional relationship\n",
    "# 1 represents propotional relationship\n",
    "# 0 means no relationship \n",
    "tobacco = [30,50,10,30,50,40]\n",
    "deaths = [100,120,70,100,120,112]\n",
    "print(np.corrcoef([tobacco,deaths]))  # co-relation co-efficient but both sizes must be same"
   ]
  },
  {
   "cell_type": "code",
   "execution_count": 12,
   "id": "618d745c-4f2d-4b4e-b6a0-4a291818720a",
   "metadata": {},
   "outputs": [
    {
     "name": "stdout",
     "output_type": "stream",
     "text": [
      "[[ 1.         -0.66621445]\n",
      " [-0.66621445  1.        ]]\n"
     ]
    }
   ],
   "source": [
    "price = [300,100,350,150,200]\n",
    "sales = [10,20,7,17,3]\n",
    "print(np.corrcoef([price,sales]))"
   ]
  }
 ],
 "metadata": {
  "kernelspec": {
   "display_name": "Python 3 (ipykernel)",
   "language": "python",
   "name": "python3"
  },
  "language_info": {
   "codemirror_mode": {
    "name": "ipython",
    "version": 3
   },
   "file_extension": ".py",
   "mimetype": "text/x-python",
   "name": "python",
   "nbconvert_exporter": "python",
   "pygments_lexer": "ipython3",
   "version": "3.12.1"
  }
 },
 "nbformat": 4,
 "nbformat_minor": 5
}
