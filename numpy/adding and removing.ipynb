{
 "cells": [
  {
   "cell_type": "code",
   "execution_count": 6,
   "id": "d0909b50-9b3d-4161-8d03-6392c5003f23",
   "metadata": {},
   "outputs": [
    {
     "name": "stdout",
     "output_type": "stream",
     "text": [
      "[20 40 60 80 90]\n"
     ]
    }
   ],
   "source": [
    "import numpy as np\n",
    "a = np.array([20,40,60,80])\n",
    "print(np.append(a,90))  # insert at last"
   ]
  },
  {
   "cell_type": "code",
   "execution_count": 3,
   "id": "61770fba-96c6-4c27-852f-cd909694ee15",
   "metadata": {},
   "outputs": [
    {
     "name": "stdout",
     "output_type": "stream",
     "text": [
      "[ 20  40  60  80  90 100]\n"
     ]
    }
   ],
   "source": [
    "a = np.array([[20,40],[60,80]])\n",
    "print(np.append(a,[90,100]))  # in 2 dimensional it converts the array to 1d"
   ]
  },
  {
   "cell_type": "code",
   "execution_count": 13,
   "id": "0e02d21a-4bd4-4442-ac0c-ac523a2e7992",
   "metadata": {},
   "outputs": [
    {
     "name": "stdout",
     "output_type": "stream",
     "text": [
      "[[20 50 40]\n",
      " [60 60 80]]\n"
     ]
    }
   ],
   "source": [
    "a = np.array([[20,40],[60,80]])\n",
    "print(np.insert(a,1,[50,60], axis = 1))  # insert in a position/array, index, value"
   ]
  },
  {
   "cell_type": "code",
   "execution_count": 14,
   "id": "a1e95fdc-5e45-4ca4-bab0-99592b8c26df",
   "metadata": {},
   "outputs": [
    {
     "name": "stdout",
     "output_type": "stream",
     "text": [
      "[[20 40]\n",
      " [50 60]\n",
      " [60 80]]\n"
     ]
    }
   ],
   "source": [
    "a = np.array([[20,40],[60,80]])\n",
    "print(np.insert(a,1,[50,60], axis = 0))  "
   ]
  },
  {
   "cell_type": "code",
   "execution_count": 16,
   "id": "e80d9f07-74fc-4908-a991-6c39e65d809e",
   "metadata": {},
   "outputs": [
    {
     "name": "stdout",
     "output_type": "stream",
     "text": [
      "[[20 40]\n",
      " [60 80]]\n",
      "[20 60 80]\n"
     ]
    }
   ],
   "source": [
    "print(a)\n",
    "print(np.delete(a,1))"
   ]
  },
  {
   "cell_type": "code",
   "execution_count": 18,
   "id": "6c3232bd-c14b-4208-90ae-0953425bb405",
   "metadata": {},
   "outputs": [
    {
     "name": "stdout",
     "output_type": "stream",
     "text": [
      "[[20 40]\n",
      " [60 80]]\n",
      "[[20]\n",
      " [60]]\n"
     ]
    }
   ],
   "source": [
    "print(a)\n",
    "print(np.delete(a,1,axis=1))"
   ]
  },
  {
   "cell_type": "code",
   "execution_count": 17,
   "id": "94742bcd-d1ce-41a4-b9c6-6c0377cee8d8",
   "metadata": {},
   "outputs": [
    {
     "name": "stdout",
     "output_type": "stream",
     "text": [
      "[[20 40]\n",
      " [60 80]]\n",
      "[[20 40]]\n"
     ]
    }
   ],
   "source": [
    "print(a)\n",
    "print(np.delete(a,1,axis=0))"
   ]
  }
 ],
 "metadata": {
  "kernelspec": {
   "display_name": "Python 3 (ipykernel)",
   "language": "python",
   "name": "python3"
  },
  "language_info": {
   "codemirror_mode": {
    "name": "ipython",
    "version": 3
   },
   "file_extension": ".py",
   "mimetype": "text/x-python",
   "name": "python",
   "nbconvert_exporter": "python",
   "pygments_lexer": "ipython3",
   "version": "3.12.1"
  }
 },
 "nbformat": 4,
 "nbformat_minor": 5
}
