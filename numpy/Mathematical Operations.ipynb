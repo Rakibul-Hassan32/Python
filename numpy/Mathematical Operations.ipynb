{
 "cells": [
  {
   "cell_type": "code",
   "execution_count": 4,
   "id": "c3711417-0af3-4fd7-9271-21f4f625588c",
   "metadata": {},
   "outputs": [
    {
     "name": "stdout",
     "output_type": "stream",
     "text": [
      "[50 70 70  5 30]\n",
      "[50 70 70  5 30]\n"
     ]
    }
   ],
   "source": [
    "import numpy as np\n",
    "arr1 = np.array([30, 40, 60, 20, 10])\n",
    "arr2 = np.array([20, 30, 10, -15, 20])\n",
    "print(arr1+arr2)\n",
    "print(np.add(arr1,arr2))"
   ]
  },
  {
   "cell_type": "code",
   "execution_count": 5,
   "id": "c4e4a82c-0240-4f1c-8be8-f05c87c028ea",
   "metadata": {},
   "outputs": [
    {
     "name": "stdout",
     "output_type": "stream",
     "text": [
      "[[50 70]\n",
      " [ 5 30]]\n",
      "[[50 70]\n",
      " [ 5 30]]\n"
     ]
    }
   ],
   "source": [
    "arr1 = np.array([[30, 40], [20, 10]])\n",
    "arr2 = np.array([[20, 30], [-15, 20]])\n",
    "print(arr1+arr2)\n",
    "print(np.add(arr1,arr2))"
   ]
  },
  {
   "cell_type": "code",
   "execution_count": 7,
   "id": "05aac452-9b3a-4701-8323-c61f106f31b4",
   "metadata": {},
   "outputs": [
    {
     "name": "stdout",
     "output_type": "stream",
     "text": [
      "[[ 10  10]\n",
      " [ 35 -10]]\n",
      "[[ 10  10]\n",
      " [ 35 -10]]\n"
     ]
    }
   ],
   "source": [
    "arr1 = np.array([[30, 40], [20, 10]])\n",
    "arr2 = np.array([[20, 30], [-15, 20]])\n",
    "print(arr1-arr2)\n",
    "print(np.subtract(arr1,arr2))"
   ]
  },
  {
   "cell_type": "code",
   "execution_count": 8,
   "id": "a76d9df8-f20a-4214-bc85-57463dbdccdc",
   "metadata": {},
   "outputs": [
    {
     "name": "stdout",
     "output_type": "stream",
     "text": [
      "[[ 600 1200]\n",
      " [-300  200]]\n",
      "[[ 600 1200]\n",
      " [-300  200]]\n"
     ]
    }
   ],
   "source": [
    "arr1 = np.array([[30, 40], [20, 10]])\n",
    "arr2 = np.array([[20, 30], [-15, 20]])\n",
    "print(arr1*arr2)\n",
    "print(np.multiply(arr1,arr2))"
   ]
  },
  {
   "cell_type": "code",
   "execution_count": 9,
   "id": "dd15f5cd-c5cd-4f3b-80b4-60cadfdb2dbc",
   "metadata": {},
   "outputs": [
    {
     "name": "stdout",
     "output_type": "stream",
     "text": [
      "[[ 1.5         1.33333333]\n",
      " [-1.33333333  0.5       ]]\n",
      "[[ 1.5         1.33333333]\n",
      " [-1.33333333  0.5       ]]\n"
     ]
    }
   ],
   "source": [
    "arr1 = np.array([[30, 40], [20, 10]])\n",
    "arr2 = np.array([[20, 30], [-15, 20]])\n",
    "print(arr1/arr2)\n",
    "print(np.divide(arr1,arr2))"
   ]
  },
  {
   "cell_type": "code",
   "execution_count": 10,
   "id": "f060a7f3-ac84-4589-8383-34b1d06fdfd2",
   "metadata": {},
   "outputs": [
    {
     "name": "stdout",
     "output_type": "stream",
     "text": [
      "[[27000 64000]\n",
      " [ 8000  1000]]\n"
     ]
    }
   ],
   "source": [
    "arr1 = np.array([[30, 40], [20, 10]])\n",
    "arr2 = np.array([3])\n",
    "print(np.power(arr1,arr2))"
   ]
  },
  {
   "cell_type": "code",
   "execution_count": 17,
   "id": "e994020f-b992-4f19-a204-dd00c719b931",
   "metadata": {},
   "outputs": [
    {
     "name": "stdout",
     "output_type": "stream",
     "text": [
      "[ 3  4 11 12]\n"
     ]
    }
   ],
   "source": [
    "arr1 = np.array([9, 16, 121, 144])\n",
    "arr2 = np.sqrt(arr1)\n",
    "print(arr2.astype(int))  # type conversion"
   ]
  },
  {
   "cell_type": "code",
   "execution_count": null,
   "id": "86d79c86-dde4-4e5c-b6cb-047bdaf6247c",
   "metadata": {},
   "outputs": [],
   "source": []
  }
 ],
 "metadata": {
  "kernelspec": {
   "display_name": "Python 3 (ipykernel)",
   "language": "python",
   "name": "python3"
  },
  "language_info": {
   "codemirror_mode": {
    "name": "ipython",
    "version": 3
   },
   "file_extension": ".py",
   "mimetype": "text/x-python",
   "name": "python",
   "nbconvert_exporter": "python",
   "pygments_lexer": "ipython3",
   "version": "3.12.1"
  }
 },
 "nbformat": 4,
 "nbformat_minor": 5
}
