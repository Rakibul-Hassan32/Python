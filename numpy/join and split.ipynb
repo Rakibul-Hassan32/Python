{
 "cells": [
  {
   "cell_type": "code",
   "execution_count": 13,
   "id": "660e33d7-b7bf-470a-b632-24f6c1bfd40c",
   "metadata": {},
   "outputs": [
    {
     "name": "stdout",
     "output_type": "stream",
     "text": [
      "[30, 40, 50, 5, 5, 3]\n"
     ]
    }
   ],
   "source": [
    "import numpy as np\n",
    "a = [30, 40, 50]\n",
    "b = [5, 5, 3]\n",
    "print(a+b)"
   ]
  },
  {
   "cell_type": "code",
   "execution_count": 14,
   "id": "d251c133-be52-4425-b73c-24b7954b8ea5",
   "metadata": {},
   "outputs": [
    {
     "name": "stdout",
     "output_type": "stream",
     "text": [
      "[30 40 50  5  5  3]\n"
     ]
    }
   ],
   "source": [
    "# concatenate\n",
    "arr1 = np.array([30,40,50])\n",
    "arr2 = np.array([5, 5, 3])\n",
    "print(np.concatenate([arr1,arr2]))"
   ]
  },
  {
   "cell_type": "code",
   "execution_count": 16,
   "id": "d1fe0e1b-283b-47a4-971d-3c41db47716e",
   "metadata": {},
   "outputs": [
    {
     "name": "stdout",
     "output_type": "stream",
     "text": [
      "[[30 40  5  5]\n",
      " [50 60  3  3]]\n"
     ]
    }
   ],
   "source": [
    "arr1 = np.array([[30,40],[50,60]])\n",
    "arr2 = np.array([[5, 5], [3,3]])\n",
    "\"\"\"print(np.concatenate([arr1,arr2]))  # by default axis = 0 / verticsl\"\"\"\n",
    "print(np.concatenate([arr1,arr2], axis = 1))  # horizontal"
   ]
  },
  {
   "cell_type": "code",
   "execution_count": 18,
   "id": "45471088-a11a-4ac8-8643-f5ffc042c207",
   "metadata": {},
   "outputs": [
    {
     "name": "stdout",
     "output_type": "stream",
     "text": [
      "[[30 40  5  5]\n",
      " [50 60  3  3]]\n"
     ]
    }
   ],
   "source": [
    "print(np.hstack([arr1,arr2]))  # horizontal"
   ]
  },
  {
   "cell_type": "code",
   "execution_count": 19,
   "id": "d9109c40-2bb7-42a7-92b6-6f88178b2116",
   "metadata": {},
   "outputs": [
    {
     "name": "stdout",
     "output_type": "stream",
     "text": [
      "[[30 40]\n",
      " [50 60]\n",
      " [ 5  5]\n",
      " [ 3  3]]\n"
     ]
    }
   ],
   "source": [
    "print(np.vstack([arr1,arr2]))  # vertical"
   ]
  },
  {
   "cell_type": "code",
   "execution_count": 6,
   "id": "54c9e673-22de-4828-8d13-e994e226e8a0",
   "metadata": {},
   "outputs": [
    {
     "name": "stdout",
     "output_type": "stream",
     "text": [
      "[30 40]\n"
     ]
    }
   ],
   "source": [
    "import numpy as np\n",
    "a = np.array([20,40,30,40,10,20])\n",
    "b = np.array_split(a,3)  # split in 3 parts\n",
    "print(b[1])"
   ]
  },
  {
   "cell_type": "code",
   "execution_count": 9,
   "id": "36d89096-a7b2-486a-892c-e1014eb001e3",
   "metadata": {},
   "outputs": [
    {
     "name": "stdout",
     "output_type": "stream",
     "text": [
      "[array([[20, 40, 30]]), array([[40, 10, 20]])]\n"
     ]
    }
   ],
   "source": [
    "a = np.array([[20,40,30],[40,10,20]])\n",
    "b = np.array_split(a,2) \n",
    "print(b)"
   ]
  }
 ],
 "metadata": {
  "kernelspec": {
   "display_name": "Python 3 (ipykernel)",
   "language": "python",
   "name": "python3"
  },
  "language_info": {
   "codemirror_mode": {
    "name": "ipython",
    "version": 3
   },
   "file_extension": ".py",
   "mimetype": "text/x-python",
   "name": "python",
   "nbconvert_exporter": "python",
   "pygments_lexer": "ipython3",
   "version": "3.12.1"
  }
 },
 "nbformat": 4,
 "nbformat_minor": 5
}
