{
 "cells": [
  {
   "cell_type": "code",
   "execution_count": 7,
   "id": "eab6e9cb-7921-481f-9f5d-bfa43c2216ac",
   "metadata": {},
   "outputs": [
    {
     "name": "stdout",
     "output_type": "stream",
     "text": [
      "[[10 20 30]\n",
      " [40 50 60]]\n",
      "(2, 3)\n",
      "2\n",
      "6\n",
      "<class 'numpy.ndarray'>\n",
      "int32\n",
      "[[10. 20. 30.]\n",
      " [40. 50. 60.]]\n"
     ]
    }
   ],
   "source": [
    "import numpy as np\n",
    "a = [[10,20,30],[40,50,60]]\n",
    "arr = np.array(a)\n",
    "print(arr)\n",
    "print(arr.shape)  # row, column\n",
    "print(len(arr))  # only rows\n",
    "print(np.size(arr))  \n",
    "print(type(arr))\n",
    "print(arr.dtype)  # data type\n",
    "print(arr.astype(float))  # type conversion"
   ]
  }
 ],
 "metadata": {
  "kernelspec": {
   "display_name": "Python 3 (ipykernel)",
   "language": "python",
   "name": "python3"
  },
  "language_info": {
   "codemirror_mode": {
    "name": "ipython",
    "version": 3
   },
   "file_extension": ".py",
   "mimetype": "text/x-python",
   "name": "python",
   "nbconvert_exporter": "python",
   "pygments_lexer": "ipython3",
   "version": "3.12.1"
  }
 },
 "nbformat": 4,
 "nbformat_minor": 5
}
